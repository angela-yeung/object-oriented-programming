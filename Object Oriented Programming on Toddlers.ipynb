{
 "cells": [
  {
   "cell_type": "markdown",
   "metadata": {},
   "source": [
    "# Object Oriented Programming\n",
    "\n",
    "Object-oriented programming is an approach to model real-world objects as software objects. Objects have properties associated with them and also behaviours or functions it can perform. \n",
    "\n",
    "In this workbook, I attempt to model my 18 month old toddler as a software object (because I just can't get enough of her in the real world!) by associating properties like name and age as well as behaviours such as walking and talking."
   ]
  },
  {
   "cell_type": "code",
   "execution_count": 1,
   "metadata": {},
   "outputs": [],
   "source": [
    "# Define Toddler class\n",
    "\n",
    "class Toddler:\n",
    "    \n",
    "    # Class attribute\n",
    "    favourite_word = \"NO!\"\n",
    "    \n",
    "    # Initiate state of objects\n",
    "    def __init__(self, name, age, gender, cartoon, food, activity, state):\n",
    "        self.name = name\n",
    "        self.age = age # in months\n",
    "        self.gender = gender\n",
    "        self.cartoon = cartoon\n",
    "        self.food = food\n",
    "        self.activity = activity\n",
    "        self.state = state\n",
    "        \n",
    "    # Instance method that describes the object \n",
    "    def __str__(self):\n",
    "        return f'{self.name} is a {self.age} months old {self.gender} toddler.'\n",
    "        \n",
    "    # Instance method to feed object\n",
    "    def feed(self, food):\n",
    "        if self.state == 'hungry' and self.food == food:\n",
    "            return f'{self.name} was {self.state} and enjoyed having {food}'\n",
    "        elif self.state == 'hungry' and self.food != food:\n",
    "            return f'{self.name} was {self.state} but did not eat {food}'\n",
    "        return f'{self.name} is not hungry'\n",
    "    \n",
    "    # Another method \n",
    "    def play(self, activity):\n",
    "        self.state = 'happy'\n",
    "        return f'{self.name} loved {activity} and is now {self.state}!'"
   ]
  },
  {
   "cell_type": "code",
   "execution_count": 2,
   "metadata": {},
   "outputs": [],
   "source": [
    "# Instantiating toddlers - Evie and her friend Harper \n",
    "\n",
    "evie = Toddler(\"Evie\",18,\"female\",\"Pepper Pig\",\"yogurt\",\"reading\", \"hungry\")\n",
    "harper = Toddler(\"Harper\",22,\"female\",\"Coco Melon\",\"watermelon\",\"dancing\", \"grizzly\")"
   ]
  },
  {
   "cell_type": "code",
   "execution_count": 3,
   "metadata": {},
   "outputs": [
    {
     "name": "stdout",
     "output_type": "stream",
     "text": [
      "Evie is a 18 months old female toddler.\n"
     ]
    }
   ],
   "source": [
    "# Description of Evie\n",
    "print(evie)"
   ]
  },
  {
   "cell_type": "code",
   "execution_count": 4,
   "metadata": {},
   "outputs": [
    {
     "data": {
      "text/plain": [
       "\"Evie's favourite cartoon is Pepper Pig and Harper's favourite cartoon is Coco Melon.\""
      ]
     },
     "execution_count": 4,
     "metadata": {},
     "output_type": "execute_result"
    }
   ],
   "source": [
    "# Access instance attributes\n",
    "\n",
    "f'Evie\\'s favourite cartoon is {evie.cartoon} and Harper\\'s favourite cartoon is {harper.cartoon}.'"
   ]
  },
  {
   "cell_type": "code",
   "execution_count": 5,
   "metadata": {},
   "outputs": [
    {
     "data": {
      "text/plain": [
       "\"NO! is Evie' favourite word. NO! is Harper' favourite word. NO! is every toddlers' favourite word.\""
      ]
     },
     "execution_count": 5,
     "metadata": {},
     "output_type": "execute_result"
    }
   ],
   "source": [
    "# Access class attributes\n",
    "\n",
    "f'{evie.favourite_word} is {evie.name}\\' favourite word. {harper.favourite_word} is {harper.name}\\' favourite word. {evie.favourite_word} is every toddlers\\' favourite word.'"
   ]
  },
  {
   "cell_type": "code",
   "execution_count": 6,
   "metadata": {},
   "outputs": [
    {
     "data": {
      "text/plain": [
       "'Evie was hungry but did not eat Fruit'"
      ]
     },
     "execution_count": 6,
     "metadata": {},
     "output_type": "execute_result"
    }
   ],
   "source": [
    "# Apply instance method \n",
    "\n",
    "evie.feed(\"Fruit\")"
   ]
  },
  {
   "cell_type": "code",
   "execution_count": 7,
   "metadata": {},
   "outputs": [
    {
     "data": {
      "text/plain": [
       "'Harper loved hide and seek and is now happy!'"
      ]
     },
     "execution_count": 7,
     "metadata": {},
     "output_type": "execute_result"
    }
   ],
   "source": [
    "# Apply another instance method \n",
    "\n",
    "harper.play(\"hide and seek\")"
   ]
  },
  {
   "cell_type": "code",
   "execution_count": 8,
   "metadata": {},
   "outputs": [
    {
     "data": {
      "text/plain": [
       "24"
      ]
     },
     "execution_count": 8,
     "metadata": {},
     "output_type": "execute_result"
    }
   ],
   "source": [
    "# Change instance attribute \n",
    "\n",
    "evie.age = 24\n",
    "evie.age"
   ]
  },
  {
   "cell_type": "code",
   "execution_count": null,
   "metadata": {},
   "outputs": [],
   "source": []
  }
 ],
 "metadata": {
  "kernelspec": {
   "display_name": "Python 3",
   "language": "python",
   "name": "python3"
  },
  "language_info": {
   "codemirror_mode": {
    "name": "ipython",
    "version": 3
   },
   "file_extension": ".py",
   "mimetype": "text/x-python",
   "name": "python",
   "nbconvert_exporter": "python",
   "pygments_lexer": "ipython3",
   "version": "3.7.4"
  }
 },
 "nbformat": 4,
 "nbformat_minor": 2
}
